{
 "cells": [
  {
   "cell_type": "code",
   "execution_count": 2,
   "id": "aaeac7ab",
   "metadata": {},
   "outputs": [
    {
     "name": "stdout",
     "output_type": "stream",
     "text": [
      "Running on all addresses.\n",
      "Use http://192.168.29.198:8003/ to access the application\n"
     ]
    },
    {
     "ename": "RuntimeError",
     "evalue": "This event loop is already running",
     "output_type": "error",
     "traceback": [
      "\u001b[1;31m---------------------------------------------------------------------------\u001b[0m",
      "\u001b[1;31mRuntimeError\u001b[0m                              Traceback (most recent call last)",
      "Cell \u001b[1;32mIn[2], line 54\u001b[0m\n\u001b[0;32m     51\u001b[0m         put_text(\u001b[38;5;124m'\u001b[39m\u001b[38;5;124m-\u001b[39m\u001b[38;5;124m'\u001b[39m \u001b[38;5;241m*\u001b[39m \u001b[38;5;241m80\u001b[39m)\n\u001b[0;32m     53\u001b[0m \u001b[38;5;28;01mif\u001b[39;00m \u001b[38;5;18m__name__\u001b[39m \u001b[38;5;241m==\u001b[39m \u001b[38;5;124m\"\u001b[39m\u001b[38;5;124m__main__\u001b[39m\u001b[38;5;124m\"\u001b[39m:\n\u001b[1;32m---> 54\u001b[0m     start_server(search_and_summarize_news, port\u001b[38;5;241m=\u001b[39m\u001b[38;5;241m8003\u001b[39m)\n",
      "File \u001b[1;32m~\\anaconda3\\Lib\\site-packages\\pywebio\\platform\\tornado.py:302\u001b[0m, in \u001b[0;36mstart_server\u001b[1;34m(applications, port, host, debug, cdn, static_dir, remote_access, reconnect_timeout, allowed_origins, check_origin, auto_open_webbrowser, max_payload_size, **tornado_app_settings)\u001b[0m\n\u001b[0;32m    299\u001b[0m \u001b[38;5;28;01mif\u001b[39;00m remote_access:\n\u001b[0;32m    300\u001b[0m     start_remote_access_service(local_port\u001b[38;5;241m=\u001b[39mport)\n\u001b[1;32m--> 302\u001b[0m tornado\u001b[38;5;241m.\u001b[39mioloop\u001b[38;5;241m.\u001b[39mIOLoop\u001b[38;5;241m.\u001b[39mcurrent()\u001b[38;5;241m.\u001b[39mstart()\n",
      "File \u001b[1;32m~\\anaconda3\\Lib\\site-packages\\tornado\\platform\\asyncio.py:195\u001b[0m, in \u001b[0;36mBaseAsyncIOLoop.start\u001b[1;34m(self)\u001b[0m\n\u001b[0;32m    194\u001b[0m \u001b[38;5;28;01mdef\u001b[39;00m \u001b[38;5;21mstart\u001b[39m(\u001b[38;5;28mself\u001b[39m) \u001b[38;5;241m-\u001b[39m\u001b[38;5;241m>\u001b[39m \u001b[38;5;28;01mNone\u001b[39;00m:\n\u001b[1;32m--> 195\u001b[0m     \u001b[38;5;28mself\u001b[39m\u001b[38;5;241m.\u001b[39masyncio_loop\u001b[38;5;241m.\u001b[39mrun_forever()\n",
      "File \u001b[1;32m~\\anaconda3\\Lib\\asyncio\\base_events.py:596\u001b[0m, in \u001b[0;36mBaseEventLoop.run_forever\u001b[1;34m(self)\u001b[0m\n\u001b[0;32m    594\u001b[0m \u001b[38;5;250m\u001b[39m\u001b[38;5;124;03m\"\"\"Run until stop() is called.\"\"\"\u001b[39;00m\n\u001b[0;32m    595\u001b[0m \u001b[38;5;28mself\u001b[39m\u001b[38;5;241m.\u001b[39m_check_closed()\n\u001b[1;32m--> 596\u001b[0m \u001b[38;5;28mself\u001b[39m\u001b[38;5;241m.\u001b[39m_check_running()\n\u001b[0;32m    597\u001b[0m \u001b[38;5;28mself\u001b[39m\u001b[38;5;241m.\u001b[39m_set_coroutine_origin_tracking(\u001b[38;5;28mself\u001b[39m\u001b[38;5;241m.\u001b[39m_debug)\n\u001b[0;32m    599\u001b[0m old_agen_hooks \u001b[38;5;241m=\u001b[39m sys\u001b[38;5;241m.\u001b[39mget_asyncgen_hooks()\n",
      "File \u001b[1;32m~\\anaconda3\\Lib\\asyncio\\base_events.py:588\u001b[0m, in \u001b[0;36mBaseEventLoop._check_running\u001b[1;34m(self)\u001b[0m\n\u001b[0;32m    586\u001b[0m \u001b[38;5;28;01mdef\u001b[39;00m \u001b[38;5;21m_check_running\u001b[39m(\u001b[38;5;28mself\u001b[39m):\n\u001b[0;32m    587\u001b[0m     \u001b[38;5;28;01mif\u001b[39;00m \u001b[38;5;28mself\u001b[39m\u001b[38;5;241m.\u001b[39mis_running():\n\u001b[1;32m--> 588\u001b[0m         \u001b[38;5;28;01mraise\u001b[39;00m \u001b[38;5;167;01mRuntimeError\u001b[39;00m(\u001b[38;5;124m'\u001b[39m\u001b[38;5;124mThis event loop is already running\u001b[39m\u001b[38;5;124m'\u001b[39m)\n\u001b[0;32m    589\u001b[0m     \u001b[38;5;28;01mif\u001b[39;00m events\u001b[38;5;241m.\u001b[39m_get_running_loop() \u001b[38;5;129;01mis\u001b[39;00m \u001b[38;5;129;01mnot\u001b[39;00m \u001b[38;5;28;01mNone\u001b[39;00m:\n\u001b[0;32m    590\u001b[0m         \u001b[38;5;28;01mraise\u001b[39;00m \u001b[38;5;167;01mRuntimeError\u001b[39;00m(\n\u001b[0;32m    591\u001b[0m             \u001b[38;5;124m'\u001b[39m\u001b[38;5;124mCannot run the event loop while another loop is running\u001b[39m\u001b[38;5;124m'\u001b[39m)\n",
      "\u001b[1;31mRuntimeError\u001b[0m: This event loop is already running"
     ]
    }
   ],
   "source": [
    "from pywebio.input import input, TEXT\n",
    "from pywebio.output import put_text, put_markdown, put_image\n",
    "from pywebio.platform.tornado import start_server\n",
    "import serpapi\n",
    "from newspaper import Article\n",
    "\n",
    "# SerpApi key\n",
    "serpapi_key = 'c0ee4e309521af7b17757f988cfe260e6049544a1e67c0e4fd66194eff1a1c4c'\n",
    "client = serpapi.Client(api_key=serpapi_key)\n",
    "\n",
    "def is_relevant_image(img_url):\n",
    "    # Modify this function based on your relevance criteria\n",
    "    return 'nature' in img_url.lower()\n",
    "\n",
    "def get_relevant_images(img_urls):\n",
    "    relevant_images = [img_url for img_url in img_urls if is_relevant_image(img_url)]\n",
    "    return relevant_images\n",
    "\n",
    "def search_and_summarize_news():\n",
    "    user_query = input(\"Enter your news query:\", type=TEXT)\n",
    "\n",
    "    # Perform the search using SerpApi\n",
    "    result = client.search(\n",
    "        q=user_query,\n",
    "        engine=\"google\",\n",
    "        location=\"Delhi, India\",\n",
    "        hl=\"en\",\n",
    "        gl=\"in\"\n",
    "    )\n",
    "\n",
    "    # Extract the top 5 relevant URLs\n",
    "    top_urls = [item['link'] for item in result.get(\"organic_results\", [])[:5]]\n",
    "\n",
    "    put_markdown(\"### Summarized News:\")\n",
    "    for url in top_urls:\n",
    "        toi_article = Article(url, language=\"hi\") \n",
    "        toi_article.download()\n",
    "        toi_article.parse()\n",
    "        toi_article.nlp()\n",
    "\n",
    "        put_markdown(f\"#### {url}\")\n",
    "        put_text(f\"Title: {toi_article.title}\")\n",
    "        put_text(f\"Article's Summary: {toi_article.summary}\")\n",
    "        put_text(f\"Article's Keywords: {toi_article.keywords}\")\n",
    "        \n",
    "        # Display relevant images\n",
    "        relevant_images = get_relevant_images(toi_article.images)\n",
    "        for img_url in relevant_images:\n",
    "            put_image(img_url, width='50%')\n",
    "\n",
    "        put_text('-' * 80)\n",
    "\n",
    "if __name__ == \"__main__\":\n",
    "    start_server(search_and_summarize_news, port=8003)\n"
   ]
  },
  {
   "cell_type": "code",
   "execution_count": 3,
   "id": "5f703aa5",
   "metadata": {},
   "outputs": [
    {
     "ename": "ModuleNotFoundError",
     "evalue": "No module named 'textblob'",
     "output_type": "error",
     "traceback": [
      "\u001b[1;31m---------------------------------------------------------------------------\u001b[0m",
      "\u001b[1;31mModuleNotFoundError\u001b[0m                       Traceback (most recent call last)",
      "Cell \u001b[1;32mIn[3], line 3\u001b[0m\n\u001b[0;32m      1\u001b[0m \u001b[38;5;28;01mfrom\u001b[39;00m \u001b[38;5;21;01mnewspaper\u001b[39;00m \u001b[38;5;28;01mimport\u001b[39;00m Article\n\u001b[0;32m      2\u001b[0m \u001b[38;5;28;01mimport\u001b[39;00m \u001b[38;5;21;01mnltk\u001b[39;00m\n\u001b[1;32m----> 3\u001b[0m \u001b[38;5;28;01mfrom\u001b[39;00m \u001b[38;5;21;01mtextblob\u001b[39;00m \u001b[38;5;28;01mimport\u001b[39;00m TextBlob\n\u001b[0;32m      5\u001b[0m \u001b[38;5;66;03m#A new article from TOI\u001b[39;00m\n\u001b[0;32m      6\u001b[0m url \u001b[38;5;241m=\u001b[39m \u001b[38;5;124m\"\u001b[39m\u001b[38;5;124mhttps://www.ndtv.com/india-news/farmers-protest-punjab-and-haryana-high-court-raps-protesting-farmers-over-children-being-paraded-in-front-5195917\u001b[39m\u001b[38;5;124m\"\u001b[39m\n",
      "\u001b[1;31mModuleNotFoundError\u001b[0m: No module named 'textblob'"
     ]
    }
   ],
   "source": [
    "pip install newspaper3k\n",
    "pip install textblob"
   ]
  },
  {
   "cell_type": "code",
   "execution_count": null,
   "id": "285dca7e",
   "metadata": {},
   "outputs": [],
   "source": []
  }
 ],
 "metadata": {
  "kernelspec": {
   "display_name": "Python 3 (ipykernel)",
   "language": "python",
   "name": "python3"
  },
  "language_info": {
   "codemirror_mode": {
    "name": "ipython",
    "version": 3
   },
   "file_extension": ".py",
   "mimetype": "text/x-python",
   "name": "python",
   "nbconvert_exporter": "python",
   "pygments_lexer": "ipython3",
   "version": "3.11.5"
  }
 },
 "nbformat": 4,
 "nbformat_minor": 5
}
